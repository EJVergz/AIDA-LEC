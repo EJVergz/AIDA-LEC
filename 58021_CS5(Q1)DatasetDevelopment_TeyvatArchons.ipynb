{
  "nbformat": 4,
  "nbformat_minor": 0,
  "metadata": {
    "colab": {
      "name": "58021_CS5(Q1)DatasetDevelopment_TeyvatArchons.ipynb",
      "provenance": [],
      "include_colab_link": true
    },
    "kernelspec": {
      "name": "python3",
      "display_name": "Python 3"
    },
    "language_info": {
      "name": "python"
    }
  },
  "cells": [
    {
      "cell_type": "markdown",
      "metadata": {
        "id": "view-in-github",
        "colab_type": "text"
      },
      "source": [
        "<a href=\"https://colab.research.google.com/github/EJVergz/AIDA-LEC/blob/main/58021_CS5(Q1)DatasetDevelopment_TeyvatArchons.ipynb\" target=\"_parent\"><img src=\"https://colab.research.google.com/assets/colab-badge.svg\" alt=\"Open In Colab\"/></a>"
      ]
    },
    {
      "cell_type": "markdown",
      "source": [
        "#**Dataset Development**\n",
        "\n",
        "**Teyvat Archons**\n",
        "\n",
        "$_{\\text{©E.D.N Almaden, A.D Buenaventura, M.A Catinoy & E.J Vergara | 2022 }}$"
      ],
      "metadata": {
        "id": "pPPdDOebA28J"
      }
    },
    {
      "cell_type": "code",
      "execution_count": 1,
      "metadata": {
        "colab": {
          "resources": {
            "http://localhost:8080/nbextensions/google.colab/files.js": {
              "data": "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",
              "ok": true,
              "headers": [
                [
                  "content-type",
                  "application/javascript"
                ]
              ],
              "status": 200,
              "status_text": ""
            }
          },
          "base_uri": "https://localhost:8080/",
          "height": 73
        },
        "id": "2GbFuLHy1SFW",
        "outputId": "5cbc9522-0606-40b7-904a-a340f0b69fd7"
      },
      "outputs": [
        {
          "output_type": "display_data",
          "data": {
            "text/plain": [
              "<IPython.core.display.HTML object>"
            ],
            "text/html": [
              "\n",
              "     <input type=\"file\" id=\"files-5b16254e-7373-4edc-b841-c522d7af990d\" name=\"files[]\" multiple disabled\n",
              "        style=\"border:none\" />\n",
              "     <output id=\"result-5b16254e-7373-4edc-b841-c522d7af990d\">\n",
              "      Upload widget is only available when the cell has been executed in the\n",
              "      current browser session. Please rerun this cell to enable.\n",
              "      </output>\n",
              "      <script src=\"/nbextensions/google.colab/files.js\"></script> "
            ]
          },
          "metadata": {}
        },
        {
          "output_type": "stream",
          "name": "stdout",
          "text": [
            "Saving HorseStats (1).csv to HorseStats (1).csv\n"
          ]
        }
      ],
      "source": [
        "from google.colab import files\n",
        "uploaded = files.upload()"
      ]
    },
    {
      "cell_type": "code",
      "source": [
        "import pandas as pd\n",
        "import matplotlib.pyplot as plt\n",
        "import seaborn as sns\n",
        "import numpy as np\n",
        "import matplotlib\n",
        "%matplotlib inline"
      ],
      "metadata": {
        "id": "kbPuNXqu1Y7W"
      },
      "execution_count": 2,
      "outputs": []
    },
    {
      "cell_type": "code",
      "source": [
        "import io\n",
        "horse = pd.read_csv(io.BytesIO(uploaded['HorseStats (1).csv']))"
      ],
      "metadata": {
        "id": "R0j2wwCw1cVK"
      },
      "execution_count": 4,
      "outputs": []
    },
    {
      "cell_type": "code",
      "source": [
        "horse_df = horse.copy()\n",
        "horse_df"
      ],
      "metadata": {
        "colab": {
          "base_uri": "https://localhost:8080/",
          "height": 990
        },
        "id": "6VaRgtdSlhkS",
        "outputId": "82778209-51f6-41d9-eb11-6df9aefb0f8e"
      },
      "execution_count": 5,
      "outputs": [
        {
          "output_type": "execute_result",
          "data": {
            "text/plain": [
              "      NAME  SPEED  STRENGTH  LIGHTNING  WIND  WATER  FIRE  GOLD  SILVER   \\\n",
              "0    HOZ 1   0.73      6.91       4.69  3.53   7.56  0.71    12       23   \n",
              "1    HOZ 2   0.83      5.18       0.14  6.27   7.94  1.90    11       28   \n",
              "2    HOZ 3   1.16      1.07       0.81  5.54   8.68  3.20    19       30   \n",
              "3    HOZ 4   2.05      7.92       0.93  8.76   8.39  3.42    18       30   \n",
              "4    HOZ 5   2.13      6.53       0.51  7.81   7.79  3.94    21       25   \n",
              "5    HOZ 6   2.29      8.70       2.01  8.18   5.75  3.93    13       21   \n",
              "6    HOZ 7   3.38      0.82       3.21  3.52   8.71  2.07    16       26   \n",
              "7    HOZ 8   5.70      2.30       4.65  1.05   8.52  8.74    23       23   \n",
              "8    HOZ 9   5.74      0.50       1.23  5.75   8.85  7.68    21       25   \n",
              "9   HOZ 10   6.17      1.19       1.52  1.46   2.72  2.37    17       21   \n",
              "10  HOZ 11   6.42      0.07       5.89  3.44   6.12  3.05    15       26   \n",
              "11  HOZ 12   7.50      0.27       4.93  5.16   8.06  6.68    20       31   \n",
              "12  HOZ 13   8.18      1.46       0.20  6.92   8.57  0.44    21       29   \n",
              "13  HOZ 14   8.71      4.01       8.72  2.34   6.62  0.40    18       20   \n",
              "14  HOZ 15   8.74      0.41       8.59  1.62   2.47  1.91    14       26   \n",
              "15  HOZ 16   2.46      0.70       1.12  1.75   8.41  6.45    19       24   \n",
              "16  HOZ 17   4.60      0.00       0.02  3.18   7.16  4.91    20       21   \n",
              "17  HOZ 18   4.62      4.30       8.13  0.58   4.31  8.39    19       32   \n",
              "18  HOZ 19   8.00      2.00       0.00  0.00   7.00  7.00    21       28   \n",
              "19  HOZ 20   8.00      1.00       0.00  5.00   1.00  8.00    12       24   \n",
              "20  HOZ 21   6.00      8.00       8.00  7.00   1.00  6.00    10       32   \n",
              "21  HOZ 22   4.00      7.00       1.00  3.00   7.00  3.00    22       31   \n",
              "22  HOZ 23   6.17      1.19       1.52  1.46   2.72  2.37    26       32   \n",
              "23  HOZ 24   7.24      6.10       0.21  6.72   6.20  4.36    20       21   \n",
              "24  HOZ 25   8.26      0.61       6.49  4.61   5.30  0.06    24       21   \n",
              "25  HOZ 26   8.34      1.75       8.08  8.75   3.17  3.26    20       27   \n",
              "26  HOZ 27   8.10      0.50       7.14  1.54   7.88  7.19    28       26   \n",
              "27  HOZ 28   1.16      1.07       0.81  5.54   8.68  3.20    15       25   \n",
              "28  HOZ 29   6.92      0.46       0.25  5.22   8.86  1.97    25       27   \n",
              "29  HOZ 30   5.55      1.62       4.36  6.51   0.00  7.28    19       28   \n",
              "\n",
              "    BRONZE  LOSS  \n",
              "0       55    78  \n",
              "1       29   100  \n",
              "2       45    74  \n",
              "3       40    80  \n",
              "4       63    59  \n",
              "5       47    87  \n",
              "6       54    72  \n",
              "7       35    87  \n",
              "8       41    81  \n",
              "9       53    77  \n",
              "10      30    97  \n",
              "11      20    97  \n",
              "12      32    86  \n",
              "13      40    90  \n",
              "14      52    76  \n",
              "15      31    94  \n",
              "16      33    94  \n",
              "17      25    92  \n",
              "18      19   100  \n",
              "19      47    85  \n",
              "20      30    96  \n",
              "21      30    85  \n",
              "22      30    80  \n",
              "23      37    90  \n",
              "24      26    97  \n",
              "25      29    92  \n",
              "26      27    87  \n",
              "27      22   106  \n",
              "28      50    66  \n",
              "29      48    73  "
            ],
            "text/html": [
              "\n",
              "  <div id=\"df-89daf53f-eaf7-419d-8f4c-1f3e0a0b7d1e\">\n",
              "    <div class=\"colab-df-container\">\n",
              "      <div>\n",
              "<style scoped>\n",
              "    .dataframe tbody tr th:only-of-type {\n",
              "        vertical-align: middle;\n",
              "    }\n",
              "\n",
              "    .dataframe tbody tr th {\n",
              "        vertical-align: top;\n",
              "    }\n",
              "\n",
              "    .dataframe thead th {\n",
              "        text-align: right;\n",
              "    }\n",
              "</style>\n",
              "<table border=\"1\" class=\"dataframe\">\n",
              "  <thead>\n",
              "    <tr style=\"text-align: right;\">\n",
              "      <th></th>\n",
              "      <th>NAME</th>\n",
              "      <th>SPEED</th>\n",
              "      <th>STRENGTH</th>\n",
              "      <th>LIGHTNING</th>\n",
              "      <th>WIND</th>\n",
              "      <th>WATER</th>\n",
              "      <th>FIRE</th>\n",
              "      <th>GOLD</th>\n",
              "      <th>SILVER</th>\n",
              "      <th>BRONZE</th>\n",
              "      <th>LOSS</th>\n",
              "    </tr>\n",
              "  </thead>\n",
              "  <tbody>\n",
              "    <tr>\n",
              "      <th>0</th>\n",
              "      <td>HOZ 1</td>\n",
              "      <td>0.73</td>\n",
              "      <td>6.91</td>\n",
              "      <td>4.69</td>\n",
              "      <td>3.53</td>\n",
              "      <td>7.56</td>\n",
              "      <td>0.71</td>\n",
              "      <td>12</td>\n",
              "      <td>23</td>\n",
              "      <td>55</td>\n",
              "      <td>78</td>\n",
              "    </tr>\n",
              "    <tr>\n",
              "      <th>1</th>\n",
              "      <td>HOZ 2</td>\n",
              "      <td>0.83</td>\n",
              "      <td>5.18</td>\n",
              "      <td>0.14</td>\n",
              "      <td>6.27</td>\n",
              "      <td>7.94</td>\n",
              "      <td>1.90</td>\n",
              "      <td>11</td>\n",
              "      <td>28</td>\n",
              "      <td>29</td>\n",
              "      <td>100</td>\n",
              "    </tr>\n",
              "    <tr>\n",
              "      <th>2</th>\n",
              "      <td>HOZ 3</td>\n",
              "      <td>1.16</td>\n",
              "      <td>1.07</td>\n",
              "      <td>0.81</td>\n",
              "      <td>5.54</td>\n",
              "      <td>8.68</td>\n",
              "      <td>3.20</td>\n",
              "      <td>19</td>\n",
              "      <td>30</td>\n",
              "      <td>45</td>\n",
              "      <td>74</td>\n",
              "    </tr>\n",
              "    <tr>\n",
              "      <th>3</th>\n",
              "      <td>HOZ 4</td>\n",
              "      <td>2.05</td>\n",
              "      <td>7.92</td>\n",
              "      <td>0.93</td>\n",
              "      <td>8.76</td>\n",
              "      <td>8.39</td>\n",
              "      <td>3.42</td>\n",
              "      <td>18</td>\n",
              "      <td>30</td>\n",
              "      <td>40</td>\n",
              "      <td>80</td>\n",
              "    </tr>\n",
              "    <tr>\n",
              "      <th>4</th>\n",
              "      <td>HOZ 5</td>\n",
              "      <td>2.13</td>\n",
              "      <td>6.53</td>\n",
              "      <td>0.51</td>\n",
              "      <td>7.81</td>\n",
              "      <td>7.79</td>\n",
              "      <td>3.94</td>\n",
              "      <td>21</td>\n",
              "      <td>25</td>\n",
              "      <td>63</td>\n",
              "      <td>59</td>\n",
              "    </tr>\n",
              "    <tr>\n",
              "      <th>5</th>\n",
              "      <td>HOZ 6</td>\n",
              "      <td>2.29</td>\n",
              "      <td>8.70</td>\n",
              "      <td>2.01</td>\n",
              "      <td>8.18</td>\n",
              "      <td>5.75</td>\n",
              "      <td>3.93</td>\n",
              "      <td>13</td>\n",
              "      <td>21</td>\n",
              "      <td>47</td>\n",
              "      <td>87</td>\n",
              "    </tr>\n",
              "    <tr>\n",
              "      <th>6</th>\n",
              "      <td>HOZ 7</td>\n",
              "      <td>3.38</td>\n",
              "      <td>0.82</td>\n",
              "      <td>3.21</td>\n",
              "      <td>3.52</td>\n",
              "      <td>8.71</td>\n",
              "      <td>2.07</td>\n",
              "      <td>16</td>\n",
              "      <td>26</td>\n",
              "      <td>54</td>\n",
              "      <td>72</td>\n",
              "    </tr>\n",
              "    <tr>\n",
              "      <th>7</th>\n",
              "      <td>HOZ 8</td>\n",
              "      <td>5.70</td>\n",
              "      <td>2.30</td>\n",
              "      <td>4.65</td>\n",
              "      <td>1.05</td>\n",
              "      <td>8.52</td>\n",
              "      <td>8.74</td>\n",
              "      <td>23</td>\n",
              "      <td>23</td>\n",
              "      <td>35</td>\n",
              "      <td>87</td>\n",
              "    </tr>\n",
              "    <tr>\n",
              "      <th>8</th>\n",
              "      <td>HOZ 9</td>\n",
              "      <td>5.74</td>\n",
              "      <td>0.50</td>\n",
              "      <td>1.23</td>\n",
              "      <td>5.75</td>\n",
              "      <td>8.85</td>\n",
              "      <td>7.68</td>\n",
              "      <td>21</td>\n",
              "      <td>25</td>\n",
              "      <td>41</td>\n",
              "      <td>81</td>\n",
              "    </tr>\n",
              "    <tr>\n",
              "      <th>9</th>\n",
              "      <td>HOZ 10</td>\n",
              "      <td>6.17</td>\n",
              "      <td>1.19</td>\n",
              "      <td>1.52</td>\n",
              "      <td>1.46</td>\n",
              "      <td>2.72</td>\n",
              "      <td>2.37</td>\n",
              "      <td>17</td>\n",
              "      <td>21</td>\n",
              "      <td>53</td>\n",
              "      <td>77</td>\n",
              "    </tr>\n",
              "    <tr>\n",
              "      <th>10</th>\n",
              "      <td>HOZ 11</td>\n",
              "      <td>6.42</td>\n",
              "      <td>0.07</td>\n",
              "      <td>5.89</td>\n",
              "      <td>3.44</td>\n",
              "      <td>6.12</td>\n",
              "      <td>3.05</td>\n",
              "      <td>15</td>\n",
              "      <td>26</td>\n",
              "      <td>30</td>\n",
              "      <td>97</td>\n",
              "    </tr>\n",
              "    <tr>\n",
              "      <th>11</th>\n",
              "      <td>HOZ 12</td>\n",
              "      <td>7.50</td>\n",
              "      <td>0.27</td>\n",
              "      <td>4.93</td>\n",
              "      <td>5.16</td>\n",
              "      <td>8.06</td>\n",
              "      <td>6.68</td>\n",
              "      <td>20</td>\n",
              "      <td>31</td>\n",
              "      <td>20</td>\n",
              "      <td>97</td>\n",
              "    </tr>\n",
              "    <tr>\n",
              "      <th>12</th>\n",
              "      <td>HOZ 13</td>\n",
              "      <td>8.18</td>\n",
              "      <td>1.46</td>\n",
              "      <td>0.20</td>\n",
              "      <td>6.92</td>\n",
              "      <td>8.57</td>\n",
              "      <td>0.44</td>\n",
              "      <td>21</td>\n",
              "      <td>29</td>\n",
              "      <td>32</td>\n",
              "      <td>86</td>\n",
              "    </tr>\n",
              "    <tr>\n",
              "      <th>13</th>\n",
              "      <td>HOZ 14</td>\n",
              "      <td>8.71</td>\n",
              "      <td>4.01</td>\n",
              "      <td>8.72</td>\n",
              "      <td>2.34</td>\n",
              "      <td>6.62</td>\n",
              "      <td>0.40</td>\n",
              "      <td>18</td>\n",
              "      <td>20</td>\n",
              "      <td>40</td>\n",
              "      <td>90</td>\n",
              "    </tr>\n",
              "    <tr>\n",
              "      <th>14</th>\n",
              "      <td>HOZ 15</td>\n",
              "      <td>8.74</td>\n",
              "      <td>0.41</td>\n",
              "      <td>8.59</td>\n",
              "      <td>1.62</td>\n",
              "      <td>2.47</td>\n",
              "      <td>1.91</td>\n",
              "      <td>14</td>\n",
              "      <td>26</td>\n",
              "      <td>52</td>\n",
              "      <td>76</td>\n",
              "    </tr>\n",
              "    <tr>\n",
              "      <th>15</th>\n",
              "      <td>HOZ 16</td>\n",
              "      <td>2.46</td>\n",
              "      <td>0.70</td>\n",
              "      <td>1.12</td>\n",
              "      <td>1.75</td>\n",
              "      <td>8.41</td>\n",
              "      <td>6.45</td>\n",
              "      <td>19</td>\n",
              "      <td>24</td>\n",
              "      <td>31</td>\n",
              "      <td>94</td>\n",
              "    </tr>\n",
              "    <tr>\n",
              "      <th>16</th>\n",
              "      <td>HOZ 17</td>\n",
              "      <td>4.60</td>\n",
              "      <td>0.00</td>\n",
              "      <td>0.02</td>\n",
              "      <td>3.18</td>\n",
              "      <td>7.16</td>\n",
              "      <td>4.91</td>\n",
              "      <td>20</td>\n",
              "      <td>21</td>\n",
              "      <td>33</td>\n",
              "      <td>94</td>\n",
              "    </tr>\n",
              "    <tr>\n",
              "      <th>17</th>\n",
              "      <td>HOZ 18</td>\n",
              "      <td>4.62</td>\n",
              "      <td>4.30</td>\n",
              "      <td>8.13</td>\n",
              "      <td>0.58</td>\n",
              "      <td>4.31</td>\n",
              "      <td>8.39</td>\n",
              "      <td>19</td>\n",
              "      <td>32</td>\n",
              "      <td>25</td>\n",
              "      <td>92</td>\n",
              "    </tr>\n",
              "    <tr>\n",
              "      <th>18</th>\n",
              "      <td>HOZ 19</td>\n",
              "      <td>8.00</td>\n",
              "      <td>2.00</td>\n",
              "      <td>0.00</td>\n",
              "      <td>0.00</td>\n",
              "      <td>7.00</td>\n",
              "      <td>7.00</td>\n",
              "      <td>21</td>\n",
              "      <td>28</td>\n",
              "      <td>19</td>\n",
              "      <td>100</td>\n",
              "    </tr>\n",
              "    <tr>\n",
              "      <th>19</th>\n",
              "      <td>HOZ 20</td>\n",
              "      <td>8.00</td>\n",
              "      <td>1.00</td>\n",
              "      <td>0.00</td>\n",
              "      <td>5.00</td>\n",
              "      <td>1.00</td>\n",
              "      <td>8.00</td>\n",
              "      <td>12</td>\n",
              "      <td>24</td>\n",
              "      <td>47</td>\n",
              "      <td>85</td>\n",
              "    </tr>\n",
              "    <tr>\n",
              "      <th>20</th>\n",
              "      <td>HOZ 21</td>\n",
              "      <td>6.00</td>\n",
              "      <td>8.00</td>\n",
              "      <td>8.00</td>\n",
              "      <td>7.00</td>\n",
              "      <td>1.00</td>\n",
              "      <td>6.00</td>\n",
              "      <td>10</td>\n",
              "      <td>32</td>\n",
              "      <td>30</td>\n",
              "      <td>96</td>\n",
              "    </tr>\n",
              "    <tr>\n",
              "      <th>21</th>\n",
              "      <td>HOZ 22</td>\n",
              "      <td>4.00</td>\n",
              "      <td>7.00</td>\n",
              "      <td>1.00</td>\n",
              "      <td>3.00</td>\n",
              "      <td>7.00</td>\n",
              "      <td>3.00</td>\n",
              "      <td>22</td>\n",
              "      <td>31</td>\n",
              "      <td>30</td>\n",
              "      <td>85</td>\n",
              "    </tr>\n",
              "    <tr>\n",
              "      <th>22</th>\n",
              "      <td>HOZ 23</td>\n",
              "      <td>6.17</td>\n",
              "      <td>1.19</td>\n",
              "      <td>1.52</td>\n",
              "      <td>1.46</td>\n",
              "      <td>2.72</td>\n",
              "      <td>2.37</td>\n",
              "      <td>26</td>\n",
              "      <td>32</td>\n",
              "      <td>30</td>\n",
              "      <td>80</td>\n",
              "    </tr>\n",
              "    <tr>\n",
              "      <th>23</th>\n",
              "      <td>HOZ 24</td>\n",
              "      <td>7.24</td>\n",
              "      <td>6.10</td>\n",
              "      <td>0.21</td>\n",
              "      <td>6.72</td>\n",
              "      <td>6.20</td>\n",
              "      <td>4.36</td>\n",
              "      <td>20</td>\n",
              "      <td>21</td>\n",
              "      <td>37</td>\n",
              "      <td>90</td>\n",
              "    </tr>\n",
              "    <tr>\n",
              "      <th>24</th>\n",
              "      <td>HOZ 25</td>\n",
              "      <td>8.26</td>\n",
              "      <td>0.61</td>\n",
              "      <td>6.49</td>\n",
              "      <td>4.61</td>\n",
              "      <td>5.30</td>\n",
              "      <td>0.06</td>\n",
              "      <td>24</td>\n",
              "      <td>21</td>\n",
              "      <td>26</td>\n",
              "      <td>97</td>\n",
              "    </tr>\n",
              "    <tr>\n",
              "      <th>25</th>\n",
              "      <td>HOZ 26</td>\n",
              "      <td>8.34</td>\n",
              "      <td>1.75</td>\n",
              "      <td>8.08</td>\n",
              "      <td>8.75</td>\n",
              "      <td>3.17</td>\n",
              "      <td>3.26</td>\n",
              "      <td>20</td>\n",
              "      <td>27</td>\n",
              "      <td>29</td>\n",
              "      <td>92</td>\n",
              "    </tr>\n",
              "    <tr>\n",
              "      <th>26</th>\n",
              "      <td>HOZ 27</td>\n",
              "      <td>8.10</td>\n",
              "      <td>0.50</td>\n",
              "      <td>7.14</td>\n",
              "      <td>1.54</td>\n",
              "      <td>7.88</td>\n",
              "      <td>7.19</td>\n",
              "      <td>28</td>\n",
              "      <td>26</td>\n",
              "      <td>27</td>\n",
              "      <td>87</td>\n",
              "    </tr>\n",
              "    <tr>\n",
              "      <th>27</th>\n",
              "      <td>HOZ 28</td>\n",
              "      <td>1.16</td>\n",
              "      <td>1.07</td>\n",
              "      <td>0.81</td>\n",
              "      <td>5.54</td>\n",
              "      <td>8.68</td>\n",
              "      <td>3.20</td>\n",
              "      <td>15</td>\n",
              "      <td>25</td>\n",
              "      <td>22</td>\n",
              "      <td>106</td>\n",
              "    </tr>\n",
              "    <tr>\n",
              "      <th>28</th>\n",
              "      <td>HOZ 29</td>\n",
              "      <td>6.92</td>\n",
              "      <td>0.46</td>\n",
              "      <td>0.25</td>\n",
              "      <td>5.22</td>\n",
              "      <td>8.86</td>\n",
              "      <td>1.97</td>\n",
              "      <td>25</td>\n",
              "      <td>27</td>\n",
              "      <td>50</td>\n",
              "      <td>66</td>\n",
              "    </tr>\n",
              "    <tr>\n",
              "      <th>29</th>\n",
              "      <td>HOZ 30</td>\n",
              "      <td>5.55</td>\n",
              "      <td>1.62</td>\n",
              "      <td>4.36</td>\n",
              "      <td>6.51</td>\n",
              "      <td>0.00</td>\n",
              "      <td>7.28</td>\n",
              "      <td>19</td>\n",
              "      <td>28</td>\n",
              "      <td>48</td>\n",
              "      <td>73</td>\n",
              "    </tr>\n",
              "  </tbody>\n",
              "</table>\n",
              "</div>\n",
              "      <button class=\"colab-df-convert\" onclick=\"convertToInteractive('df-89daf53f-eaf7-419d-8f4c-1f3e0a0b7d1e')\"\n",
              "              title=\"Convert this dataframe to an interactive table.\"\n",
              "              style=\"display:none;\">\n",
              "        \n",
              "  <svg xmlns=\"http://www.w3.org/2000/svg\" height=\"24px\"viewBox=\"0 0 24 24\"\n",
              "       width=\"24px\">\n",
              "    <path d=\"M0 0h24v24H0V0z\" fill=\"none\"/>\n",
              "    <path d=\"M18.56 5.44l.94 2.06.94-2.06 2.06-.94-2.06-.94-.94-2.06-.94 2.06-2.06.94zm-11 1L8.5 8.5l.94-2.06 2.06-.94-2.06-.94L8.5 2.5l-.94 2.06-2.06.94zm10 10l.94 2.06.94-2.06 2.06-.94-2.06-.94-.94-2.06-.94 2.06-2.06.94z\"/><path d=\"M17.41 7.96l-1.37-1.37c-.4-.4-.92-.59-1.43-.59-.52 0-1.04.2-1.43.59L10.3 9.45l-7.72 7.72c-.78.78-.78 2.05 0 2.83L4 21.41c.39.39.9.59 1.41.59.51 0 1.02-.2 1.41-.59l7.78-7.78 2.81-2.81c.8-.78.8-2.07 0-2.86zM5.41 20L4 18.59l7.72-7.72 1.47 1.35L5.41 20z\"/>\n",
              "  </svg>\n",
              "      </button>\n",
              "      \n",
              "  <style>\n",
              "    .colab-df-container {\n",
              "      display:flex;\n",
              "      flex-wrap:wrap;\n",
              "      gap: 12px;\n",
              "    }\n",
              "\n",
              "    .colab-df-convert {\n",
              "      background-color: #E8F0FE;\n",
              "      border: none;\n",
              "      border-radius: 50%;\n",
              "      cursor: pointer;\n",
              "      display: none;\n",
              "      fill: #1967D2;\n",
              "      height: 32px;\n",
              "      padding: 0 0 0 0;\n",
              "      width: 32px;\n",
              "    }\n",
              "\n",
              "    .colab-df-convert:hover {\n",
              "      background-color: #E2EBFA;\n",
              "      box-shadow: 0px 1px 2px rgba(60, 64, 67, 0.3), 0px 1px 3px 1px rgba(60, 64, 67, 0.15);\n",
              "      fill: #174EA6;\n",
              "    }\n",
              "\n",
              "    [theme=dark] .colab-df-convert {\n",
              "      background-color: #3B4455;\n",
              "      fill: #D2E3FC;\n",
              "    }\n",
              "\n",
              "    [theme=dark] .colab-df-convert:hover {\n",
              "      background-color: #434B5C;\n",
              "      box-shadow: 0px 1px 3px 1px rgba(0, 0, 0, 0.15);\n",
              "      filter: drop-shadow(0px 1px 2px rgba(0, 0, 0, 0.3));\n",
              "      fill: #FFFFFF;\n",
              "    }\n",
              "  </style>\n",
              "\n",
              "      <script>\n",
              "        const buttonEl =\n",
              "          document.querySelector('#df-89daf53f-eaf7-419d-8f4c-1f3e0a0b7d1e button.colab-df-convert');\n",
              "        buttonEl.style.display =\n",
              "          google.colab.kernel.accessAllowed ? 'block' : 'none';\n",
              "\n",
              "        async function convertToInteractive(key) {\n",
              "          const element = document.querySelector('#df-89daf53f-eaf7-419d-8f4c-1f3e0a0b7d1e');\n",
              "          const dataTable =\n",
              "            await google.colab.kernel.invokeFunction('convertToInteractive',\n",
              "                                                     [key], {});\n",
              "          if (!dataTable) return;\n",
              "\n",
              "          const docLinkHtml = 'Like what you see? Visit the ' +\n",
              "            '<a target=\"_blank\" href=https://colab.research.google.com/notebooks/data_table.ipynb>data table notebook</a>'\n",
              "            + ' to learn more about interactive tables.';\n",
              "          element.innerHTML = '';\n",
              "          dataTable['output_type'] = 'display_data';\n",
              "          await google.colab.output.renderOutput(dataTable, element);\n",
              "          const docLink = document.createElement('div');\n",
              "          docLink.innerHTML = docLinkHtml;\n",
              "          element.appendChild(docLink);\n",
              "        }\n",
              "      </script>\n",
              "    </div>\n",
              "  </div>\n",
              "  "
            ]
          },
          "metadata": {},
          "execution_count": 5
        }
      ]
    },
    {
      "cell_type": "code",
      "source": [
        "horse_df.shape"
      ],
      "metadata": {
        "id": "-8kB4Dun8qJt",
        "outputId": "b486f826-0071-40e5-e992-4cbb47a669ce",
        "colab": {
          "base_uri": "https://localhost:8080/"
        }
      },
      "execution_count": 6,
      "outputs": [
        {
          "output_type": "execute_result",
          "data": {
            "text/plain": [
              "(30, 11)"
            ]
          },
          "metadata": {},
          "execution_count": 6
        }
      ]
    },
    {
      "cell_type": "code",
      "source": [
        "horse_df.dtypes"
      ],
      "metadata": {
        "colab": {
          "base_uri": "https://localhost:8080/"
        },
        "id": "EO-CD_7M4Jn5",
        "outputId": "706752d7-d095-4194-a5ab-77e2684dcb8c"
      },
      "execution_count": 7,
      "outputs": [
        {
          "output_type": "execute_result",
          "data": {
            "text/plain": [
              "NAME          object\n",
              "SPEED        float64\n",
              "STRENGTH     float64\n",
              "LIGHTNING    float64\n",
              "WIND         float64\n",
              "WATER        float64\n",
              "FIRE         float64\n",
              "GOLD           int64\n",
              "SILVER         int64\n",
              "BRONZE         int64\n",
              "LOSS           int64\n",
              "dtype: object"
            ]
          },
          "metadata": {},
          "execution_count": 7
        }
      ]
    },
    {
      "cell_type": "code",
      "source": [
        "horse_df.info()"
      ],
      "metadata": {
        "colab": {
          "base_uri": "https://localhost:8080/"
        },
        "id": "SbVGvg5a78BF",
        "outputId": "e6bc45da-7430-4c68-8324-d80c61ac9209"
      },
      "execution_count": 8,
      "outputs": [
        {
          "output_type": "stream",
          "name": "stdout",
          "text": [
            "<class 'pandas.core.frame.DataFrame'>\n",
            "RangeIndex: 30 entries, 0 to 29\n",
            "Data columns (total 11 columns):\n",
            " #   Column     Non-Null Count  Dtype  \n",
            "---  ------     --------------  -----  \n",
            " 0   NAME       30 non-null     object \n",
            " 1   SPEED      30 non-null     float64\n",
            " 2   STRENGTH   30 non-null     float64\n",
            " 3   LIGHTNING  30 non-null     float64\n",
            " 4   WIND       30 non-null     float64\n",
            " 5   WATER      30 non-null     float64\n",
            " 6   FIRE       30 non-null     float64\n",
            " 7   GOLD       30 non-null     int64  \n",
            " 8   SILVER     30 non-null     int64  \n",
            " 9   BRONZE     30 non-null     int64  \n",
            " 10  LOSS       30 non-null     int64  \n",
            "dtypes: float64(6), int64(4), object(1)\n",
            "memory usage: 2.7+ KB\n"
          ]
        }
      ]
    },
    {
      "cell_type": "code",
      "source": [
        "rng = np.random.RandomState(0)\n",
        "x = np.linspace(0, 10, 500)\n",
        "y = np.cumsum(rng.randn(500, 6), 0)"
      ],
      "metadata": {
        "id": "GcA8kPVP1vG8"
      },
      "execution_count": 9,
      "outputs": []
    },
    {
      "cell_type": "code",
      "source": [
        "sns.catplot(x='NAME',y =\"GOLD\",\n",
        "                data = horse_df, palette = \"Set2\", kind =\"bar\",\n",
        "                height = 4, aspect = 5);"
      ],
      "metadata": {
        "colab": {
          "base_uri": "https://localhost:8080/",
          "height": 266
        },
        "id": "GTZ9TvyE1zIi",
        "outputId": "a961b2b5-ad3b-4c6a-f913-449832b765cd"
      },
      "execution_count": 10,
      "outputs": [
        {
          "output_type": "display_data",
          "data": {
            "text/plain": [
              "<Figure size 1440x288 with 1 Axes>"
            ],
            "image/png": "[encoded data removed]"
          },
          "metadata": {
            "needs_background": "light"
          }
        }
      ]
    },
    {
      "cell_type": "code",
      "source": [
        "sns.catplot(x='NAME',y =\"SILVER \",\n",
        "                data = horse_df, palette = \"Set2\", kind =\"bar\",\n",
        "                height = 4, aspect = 5);"
      ],
      "metadata": {
        "colab": {
          "base_uri": "https://localhost:8080/",
          "height": 266
        },
        "id": "DwJsAG2r2A08",
        "outputId": "c603cc7c-4603-476b-fc5f-726b9a8ec2dd"
      },
      "execution_count": 11,
      "outputs": [
        {
          "output_type": "display_data",
          "data": {
            "text/plain": [
              "<Figure size 1440x288 with 1 Axes>"
            ],
            "image/png": "[encoded data removed]"
          },
          "metadata": {
            "needs_background": "light"
          }
        }
      ]
    },
    {
      "cell_type": "code",
      "source": [
        "sns.catplot(x='NAME',y =\"BRONZE\",\n",
        "                data = horse_df, palette = \"Set2\", kind =\"bar\",\n",
        "                height = 4, aspect = 5);"
      ],
      "metadata": {
        "colab": {
          "base_uri": "https://localhost:8080/",
          "height": 266
        },
        "id": "88wbWLxC2ONr",
        "outputId": "863c9fb2-2305-4101-8d4e-93adcfcd338b"
      },
      "execution_count": 12,
      "outputs": [
        {
          "output_type": "display_data",
          "data": {
            "text/plain": [
              "<Figure size 1440x288 with 1 Axes>"
            ],
            "image/png": "[encoded data removed]"
          },
          "metadata": {
            "needs_background": "light"
          }
        }
      ]
    },
    {
      "cell_type": "code",
      "source": [
        "sns.catplot(x='NAME',y =\"LOSS\",\n",
        "                data = horse_df, palette = \"Set2\", kind =\"bar\",\n",
        "                height = 4, aspect = 5);"
      ],
      "metadata": {
        "colab": {
          "base_uri": "https://localhost:8080/",
          "height": 266
        },
        "id": "RD66licW2bMR",
        "outputId": "febab619-fc34-431a-ca15-3fda44ea49d6"
      },
      "execution_count": 13,
      "outputs": [
        {
          "output_type": "display_data",
          "data": {
            "text/plain": [
              "<Figure size 1440x288 with 1 Axes>"
            ],
            "image/png": "[encoded data removed]"
          },
          "metadata": {
            "needs_background": "light"
          }
        }
      ]
    }
  ]
}